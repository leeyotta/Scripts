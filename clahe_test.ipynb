{
 "cells": [
  {
   "cell_type": "markdown",
   "metadata": {},
   "source": [
    "# 拼接图像并保存"
   ]
  },
  {
   "cell_type": "code",
   "execution_count": 5,
   "metadata": {
    "scrolled": true
   },
   "outputs": [
    {
     "data": {
      "text/plain": [
       "True"
      ]
     },
     "execution_count": 5,
     "metadata": {},
     "output_type": "execute_result"
    }
   ],
   "source": [
    "import cv2\n",
    "import numpy as np\n",
    "imgA = cv2.imread('600DP-10_0.png')\n",
    "imgB = cv2.imread('600DP-10_0_label.png')\n",
    "#在进行拼接之前，必须将两个img resize成同一个size,\n",
    "#因为np.hstack和np.vstack实际上是堆叠数组，不过按照列和行进行堆叠数组\n",
    "# size = (300, 300)\n",
    "# imgA = cv2.resize(imgA, size)\n",
    "# imgB = cv2.resize(imgB, size)\n",
    "#水平拼接\n",
    "splice = np.hstack((imgA, imgB))\n",
    "\n",
    "saveFile = \"./result.png\"  # 保存文件的路径\n",
    "\n",
    "cv2.imwrite(saveFile, splice)  # 保存图像文件\n"
   ]
  },
  {
   "cell_type": "code",
   "execution_count": 19,
   "metadata": {},
   "outputs": [],
   "source": [
    "# ## 直方图均衡化处理(HE)，自适应直方图均衡化(AHE),限制对比度自适应直方图均衡化处理\n",
    "# from skimage import exposure\n",
    "# import cv2\n",
    "# import numpy as np\n",
    "# from PIL import Image\n",
    "# import matplotlib.pyplot as plt\n",
    "# file_to_open = './test.png'  ## 导入图像路径\n",
    "# img = cv2.imread(file_to_open,cv2.IMREAD_GRAYSCALE)\n",
    "# print(type(img))\n",
    "\n",
    "# ## 直方图均衡化处理（HE）\n",
    "# img_HE = cv2.equalizeHist(img)\n",
    "\n",
    "# ## 自适应直方图均衡化处理(AHE)\n",
    "# img1 = exposure.equalize_adapthist(img)\n",
    "# img_AHE = Image.fromarray(np.uint8(img1 * 255))\n",
    "# img_AHE = np.array(img_AHE)    #PIL.Image.Image转numpy.ndarry\n",
    "\n",
    "## 限制对比度自适应直方图均衡化处理（CLAHE），也叫局部直方图均衡化处理\n",
    "# clahe = cv2.createCLAHE(clipLimit=2, tileGridSize=(10, 10))\n",
    "# img_CLAHE = clahe.apply(img)   # 将灰度图像和局部直方图相关联, 把直方图均衡化应用到灰度图\n",
    "\n",
    "plt.rcParams['font.sans-serif']=['SimHei']       #坐标图像中显示中文\n",
    "plt.rcParams['axes.unicode_minus']=False\n",
    "\n",
    "plt.figure(figsize=(20,15))    #设置大小\n",
    "plt.subplot(241)\n",
    "plt.imshow(img,cmap=plt.cm.gray,vmin=0,vmax=255),plt.axis(\"off\"),plt.title(\"原始图像\")\n",
    "plt.subplot(245)\n",
    "plt.hist(img.ravel(), 256), plt.title('原始图像直方图')\n",
    "\n",
    "plt.subplot(242)\n",
    "plt.imshow(img_HE,cmap=plt.cm.gray,vmin=0,vmax=255),plt.axis(\"off\"),plt.title(\"直方图均衡化处理\")\n",
    "plt.subplot(246)\n",
    "plt.hist(img_HE.ravel(), 256), plt.title('直方图均衡化处理后直方图')\n",
    "\n",
    "plt.subplot(243)\n",
    "plt.imshow(img_AHE,cmap=plt.cm.gray,vmin=0,vmax=255),plt.axis(\"off\"),plt.title(\"自适应直方图均衡化处理\")\n",
    "plt.subplot(247)\n",
    "plt.hist(img_AHE.ravel(), 256), plt.title('自适应直方图均衡化处理后直方图')\n",
    "\n",
    "plt.subplot(244)\n",
    "plt.imshow(img_CLAHE,cmap=plt.cm.gray,vmin=0,vmax=255),plt.axis(\"off\"),plt.title(\"限制对比度自适应直方图均衡化处理\")\n",
    "plt.subplot(248)\n",
    "plt.hist(img_CLAHE.ravel(), 256), plt.title('限制对比度自适应直方图均衡化处理后直方图')\n",
    "\n",
    "plt.show()\n"
   ]
  },
  {
   "cell_type": "code",
   "execution_count": 20,
   "metadata": {},
   "outputs": [],
   "source": [
    "def cv2_show(name,img):\n",
    "    cv2.imshow(name,img)\n",
    "    cv2.waitKey(0)\n",
    "    cv2.destroyAllWindows()"
   ]
  },
  {
   "cell_type": "code",
   "execution_count": 27,
   "metadata": {
    "scrolled": false
   },
   "outputs": [],
   "source": [
    "from skimage import exposure\n",
    "import cv2\n",
    "import numpy as np\n",
    "from PIL import Image\n",
    "import matplotlib.pyplot as plt\n",
    "file_to_open = './test.png'  ## 导入图像路径\n",
    "img = cv2.imread(file_to_open,cv2.IMREAD_GRAYSCALE)\n",
    "# print(type(img))\n",
    "\n",
    "## 限制对比度自适应直方图均衡化处理（CLAHE），也叫局部直方图均衡化处理\n",
    "\n",
    "clahe = cv2.createCLAHE(clipLimit=2, tileGridSize=(10,10))\n",
    "img_CLAHE = clahe.apply(img)   # 将灰度图像和局部直方图相关联, 把直方图均衡化应用到灰度图\n",
    "res = np.hstack((img, img_CLAHE))\n",
    "cv2_show(\"res\",res)"
   ]
  },
  {
   "cell_type": "code",
   "execution_count": null,
   "metadata": {},
   "outputs": [],
   "source": []
  }
 ],
 "metadata": {
  "kernelspec": {
   "display_name": "Python 3 (ipykernel)",
   "language": "python",
   "name": "python3"
  },
  "language_info": {
   "codemirror_mode": {
    "name": "ipython",
    "version": 3
   },
   "file_extension": ".py",
   "mimetype": "text/x-python",
   "name": "python",
   "nbconvert_exporter": "python",
   "pygments_lexer": "ipython3",
   "version": "3.9.7"
  }
 },
 "nbformat": 4,
 "nbformat_minor": 2
}

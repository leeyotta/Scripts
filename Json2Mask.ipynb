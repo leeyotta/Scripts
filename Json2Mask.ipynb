{
 "cells": [
  {
   "cell_type": "markdown",
   "metadata": {},
   "source": [
    "# Json2Mask\n",
    "### @Author  : LeeYotta\n"
   ]
  },
  {
   "cell_type": "markdown",
   "metadata": {},
   "source": [
    "### 1.调用labelme_json_to_dataset.exe 生成包含label图像的XXXXXXX_json文件夹\n"
   ]
  },
  {
   "cell_type": "code",
   "execution_count": 2,
   "metadata": {},
   "outputs": [],
   "source": [
    "import os\n",
    "import glob\n",
    "\n",
    "folder_name = \"./\"\n",
    "path = os.getcwd()+'\\\\'+folder_name  # path to json_file\n",
    "json_file = glob.glob(os.path.join(path, \"*.json\"))\n",
    "for file in json_file:\n",
    "    os.system(\"D:\\Anaconda3\\Scripts\\labelme_json_to_dataset.exe \" + file)"
   ]
  },
  {
   "cell_type": "markdown",
   "metadata": {},
   "source": [
    "### 2.目录结构XXXXXXX_json/label.png变为labels/XXXXXXX_label.png\n"
   ]
  },
  {
   "cell_type": "code",
   "execution_count": 3,
   "metadata": {
    "scrolled": true
   },
   "outputs": [
    {
     "name": "stdout",
     "output_type": "stream",
     "text": [
      "copy ./600DP-10_1_json/label.png -> ./labels/600DP-10_1_label.png\n",
      "copy ./600DP-10_2_json/label.png -> ./labels/600DP-10_2_label.png\n",
      "copy ./600DP-1_1_json/label.png -> ./labels/600DP-1_1_label.png\n",
      "copy ./600DP-1_2_json/label.png -> ./labels/600DP-1_2_label.png\n",
      "copy ./600DP-1_3_json/label.png -> ./labels/600DP-1_3_label.png\n",
      "copy ./600DP-2_0_json/label.png -> ./labels/600DP-2_0_label.png\n",
      "copy ./600DP-2_2_json/label.png -> ./labels/600DP-2_2_label.png\n",
      "copy ./600DP-2_3_json/label.png -> ./labels/600DP-2_3_label.png\n",
      "copy ./600DP-3_0_json/label.png -> ./labels/600DP-3_0_label.png\n",
      "copy ./600DP-3_1_json/label.png -> ./labels/600DP-3_1_label.png\n",
      "copy ./600DP-4_0_json/label.png -> ./labels/600DP-4_0_label.png\n",
      "copy ./600DP-4_1_json/label.png -> ./labels/600DP-4_1_label.png\n",
      "copy ./600DP-4_2_json/label.png -> ./labels/600DP-4_2_label.png\n",
      "copy ./600DP-4_3_json/label.png -> ./labels/600DP-4_3_label.png\n",
      "copy ./600DP-5_0_json/label.png -> ./labels/600DP-5_0_label.png\n",
      "copy ./600DP-5_1_json/label.png -> ./labels/600DP-5_1_label.png\n",
      "copy ./600DP-5_2_json/label.png -> ./labels/600DP-5_2_label.png\n",
      "copy ./600DP-5_3_json/label.png -> ./labels/600DP-5_3_label.png\n",
      "copy ./600DP-7_3_json/label.png -> ./labels/600DP-7_3_label.png\n",
      "copy ./600DP-9_3_json/label.png -> ./labels/600DP-9_3_label.png\n"
     ]
    }
   ],
   "source": [
    "import shutil\n",
    "for root, dirs, files in os.walk(\"./\"):\n",
    "    if \"json\" in root:\n",
    "        srcfile = root+'/label.png'\n",
    "        dstpath = './labels/' \n",
    "        label_name=root[2:-4]+\"label.png\"\n",
    "        if not os.path.exists(dstpath):\n",
    "            os.makedirs(dstpath)                       \n",
    "        shutil.copy(srcfile, dstpath + label_name)          \n",
    "        print (\"copy %s -> %s\"%(srcfile, dstpath + label_name))\n",
    "        shutil.rmtree(root)"
   ]
  },
  {
   "cell_type": "code",
   "execution_count": 4,
   "metadata": {},
   "outputs": [
    {
     "name": "stdout",
     "output_type": "stream",
     "text": [
      "copy .\\600DP-10_1.png -> ./images/600DP-10_1.png\n",
      "copy .\\600DP-10_2.png -> ./images/600DP-10_2.png\n",
      "copy .\\600DP-1_1.png -> ./images/600DP-1_1.png\n",
      "copy .\\600DP-1_2.png -> ./images/600DP-1_2.png\n",
      "copy .\\600DP-1_3.png -> ./images/600DP-1_3.png\n",
      "copy .\\600DP-2_0.png -> ./images/600DP-2_0.png\n",
      "copy .\\600DP-2_2.png -> ./images/600DP-2_2.png\n",
      "copy .\\600DP-2_3.png -> ./images/600DP-2_3.png\n",
      "copy .\\600DP-3_0.png -> ./images/600DP-3_0.png\n",
      "copy .\\600DP-3_1.png -> ./images/600DP-3_1.png\n",
      "copy .\\600DP-4_0.png -> ./images/600DP-4_0.png\n",
      "copy .\\600DP-4_1.png -> ./images/600DP-4_1.png\n",
      "copy .\\600DP-4_2.png -> ./images/600DP-4_2.png\n",
      "copy .\\600DP-4_3.png -> ./images/600DP-4_3.png\n",
      "copy .\\600DP-5_0.png -> ./images/600DP-5_0.png\n",
      "copy .\\600DP-5_1.png -> ./images/600DP-5_1.png\n",
      "copy .\\600DP-5_2.png -> ./images/600DP-5_2.png\n",
      "copy .\\600DP-5_3.png -> ./images/600DP-5_3.png\n",
      "copy .\\600DP-7_3.png -> ./images/600DP-7_3.png\n",
      "copy .\\600DP-9_3.png -> ./images/600DP-9_3.png\n"
     ]
    }
   ],
   "source": [
    "src_dir = './'\n",
    "dstpath = './images/'\n",
    "src_file_list = glob.glob(src_dir +'*.png')\n",
    "for srcfile in src_file_list:\n",
    "    fpath,fname=os.path.split(srcfile)             # 分离文件名和路径\n",
    "    if not os.path.exists(dstpath):\n",
    "        os.makedirs(dstpath)                       # 创建路径\n",
    "    shutil.copy(srcfile, dstpath + fname)          # 复制文件\n",
    "    print (\"copy %s -> %s\"%(srcfile, dstpath + fname))"
   ]
  },
  {
   "cell_type": "markdown",
   "metadata": {},
   "source": [
    "### 3. label处理：将三通道二值图像转为单通道，并从png转为npy格式"
   ]
  },
  {
   "cell_type": "code",
   "execution_count": null,
   "metadata": {},
   "outputs": [],
   "source": [
    "import glob\n",
    "import os\n",
    "import shutil\n",
    "import cv2\n",
    "\n",
    "src_dir = './labels/'\n",
    "dstpath = './labels/'\n",
    "src_file_list = glob.glob(src_dir +'*.png')\n",
    "for srcfile in src_file_list:\n",
    "    fpath, fname=os.path.split(srcfile)             # 分离文件名和路径\n",
    "    src = cv2.imread(srcfile,0)\n",
    "    ret, binary = cv2.threshold(src, 0, 255, cv2.THRESH_BINARY | cv2.THRESH_OTSU)\n",
    "    cv2.imwrite(dstpath + fname, binary)\n",
    "    print (\"create dwn of %s -> %s\"%(srcfile, dstpath + fname))\n",
    "\n",
    "#\n",
    "# img = cv2.imread(\"./labels/600DP-1_0_label.png\")\n",
    "#\n",
    "# image = cv2.bitwise_not(src=img)\n",
    "#\n",
    "# cv2.imwrite('600DP-1_0_label.png', image)\n",
    "\n",
    "# cv2.imshow(\"mask\", image)\n",
    "# cv2.waitKey()\n",
    "# cv2.destroyAllWindows()"
   ]
  },
  {
   "cell_type": "code",
   "execution_count": 5,
   "metadata": {},
   "outputs": [
    {
     "name": "stdout",
     "output_type": "stream",
     "text": [
      "done!\n"
     ]
    }
   ],
   "source": [
    "import numpy as np\n",
    "import cv2\n",
    "from PIL import Image\n",
    "from matplotlib import pyplot as plt\n",
    "import os\n",
    "\n",
    "file_pathname = './labels'\n",
    "target_pathname ='./labels'\n",
    "\n",
    "\n",
    "def PNG2NPY(s_dir,t_dir):\n",
    "    files = os.listdir(s_dir)\n",
    "    for filename in os.listdir(file_pathname):\n",
    "        a, b = os.path.splitext(filename)\n",
    "        if 'label' in a:\n",
    "            a = a[:-6]\n",
    "        img = cv2.imread(os.path.join(s_dir + \"/\" + filename))\n",
    "        d1 = np.unique(img)\n",
    "        img_color = cv2.cvtColor(img, cv2.COLOR_RGB2GRAY)\n",
    "        img_color[img_color>0]=255\n",
    "        data = np.array(img_color,dtype='uint8')\n",
    "        data = data/255\n",
    "        data = np.array(data,dtype='uint8')\n",
    "        d2 = np.unique(data)\n",
    "        np.save(t_dir + \"/\"+a + \".npy\", data)  # cell is 1 and border is 0\n",
    "    print(\"done!\")  \n",
    "        \n",
    "PNG2NPY(file_pathname, target_pathname)"
   ]
  },
  {
   "cell_type": "markdown",
   "metadata": {},
   "source": [
    "### 4. image处理：将灰度图像转为单通道的png"
   ]
  },
  {
   "cell_type": "code",
   "execution_count": 1,
   "metadata": {},
   "outputs": [
    {
     "ename": "ImportError",
     "evalue": "Bindings generation error. Submodule name should always start with a parent module name. Parent name: cv2.cv2. Submodule name: cv2",
     "output_type": "error",
     "traceback": [
      "\u001b[1;31m---------------------------------------------------------------------------\u001b[0m",
      "\u001b[1;31mImportError\u001b[0m                               Traceback (most recent call last)",
      "\u001b[1;32m~\\AppData\\Local\\Temp/ipykernel_16984/4085465178.py\u001b[0m in \u001b[0;36m<module>\u001b[1;34m\u001b[0m\n\u001b[0;32m      1\u001b[0m \u001b[1;32mimport\u001b[0m \u001b[0mnumpy\u001b[0m \u001b[1;32mas\u001b[0m \u001b[0mnp\u001b[0m\u001b[1;33m\u001b[0m\u001b[1;33m\u001b[0m\u001b[0m\n\u001b[0;32m      2\u001b[0m \u001b[1;32mimport\u001b[0m \u001b[0mos\u001b[0m\u001b[1;33m\u001b[0m\u001b[1;33m\u001b[0m\u001b[0m\n\u001b[1;32m----> 3\u001b[1;33m \u001b[1;32mfrom\u001b[0m \u001b[0mcv2\u001b[0m \u001b[1;32mimport\u001b[0m \u001b[0mcv2\u001b[0m\u001b[1;33m\u001b[0m\u001b[1;33m\u001b[0m\u001b[0m\n\u001b[0m\u001b[0;32m      4\u001b[0m \u001b[1;32mfrom\u001b[0m \u001b[0mPIL\u001b[0m \u001b[1;32mimport\u001b[0m \u001b[0mImage\u001b[0m\u001b[1;33m\u001b[0m\u001b[1;33m\u001b[0m\u001b[0m\n\u001b[0;32m      5\u001b[0m \u001b[1;32mfrom\u001b[0m \u001b[0mmatplotlib\u001b[0m \u001b[1;32mimport\u001b[0m \u001b[0mpyplot\u001b[0m \u001b[1;32mas\u001b[0m \u001b[0mplt\u001b[0m\u001b[1;33m\u001b[0m\u001b[1;33m\u001b[0m\u001b[0m\n",
      "\u001b[1;31mImportError\u001b[0m: Bindings generation error. Submodule name should always start with a parent module name. Parent name: cv2.cv2. Submodule name: cv2"
     ]
    }
   ],
   "source": [
    "import numpy as np\n",
    "import os\n",
    "import cv2\n",
    "from PIL import Image\n",
    "from matplotlib import pyplot as plt\n",
    "\n",
    "file_pathname = './images'\n",
    "target_pathname = './images'\n",
    "\n",
    "def THREE2ONE(s_dir,t_dir):          \n",
    "    files = os.listdir(s_dir)\n",
    "    for filename in os.listdir(file_pathname):\n",
    "        a, b = os.path.splitext(filename)\n",
    "#         print(filename)\n",
    "        img = cv2.imread(os.path.join(s_dir + \"/\" + filename), 0)\n",
    "#         d1 = np.unique(img)\n",
    "        shape = img.shape\n",
    "#         print(\"img shape\" , shape)\n",
    "        \n",
    "# 特别重新进行分割\n",
    "#         ret, thresh = cv2.threshold(img, 0, 255, cv2.THRESH_OTSU)\n",
    "#         img_gray = cv2.cvtColor(img, cv2.COLOR_RGB2GRAY)\n",
    "      #  print(\"img_gray shape\",img_gray.shape)\n",
    "#         print(\"img unique\", np.unique(img))\n",
    "        cv2.imwrite(t_dir + \"/\" + filename, img)\n",
    "    print(\"done!\")  \n",
    "        \n",
    "THREE2ONE(file_pathname, target_pathname)"
   ]
  },
  {
   "cell_type": "code",
   "execution_count": null,
   "metadata": {},
   "outputs": [],
   "source": []
  }
 ],
 "metadata": {
  "kernelspec": {
   "display_name": "Python 3 (ipykernel)",
   "language": "python",
   "name": "python3"
  },
  "language_info": {
   "codemirror_mode": {
    "name": "ipython",
    "version": 3
   },
   "file_extension": ".py",
   "mimetype": "text/x-python",
   "name": "python",
   "nbconvert_exporter": "python",
   "pygments_lexer": "ipython3",
   "version": "3.9.7"
  }
 },
 "nbformat": 4,
 "nbformat_minor": 2
}

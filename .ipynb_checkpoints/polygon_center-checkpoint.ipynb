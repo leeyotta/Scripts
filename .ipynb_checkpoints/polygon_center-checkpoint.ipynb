{
 "cells": [
  {
   "cell_type": "code",
   "execution_count": 2,
   "id": "9a2e84b0",
   "metadata": {},
   "outputs": [],
   "source": []
  },
  {
   "cell_type": "code",
   "execution_count": 24,
   "id": "00b045d6",
   "metadata": {},
   "outputs": [],
   "source": [
    "def cal_area(vertices): #Gauss's area formula 高斯面积计算\n",
    "    A = 0.0\n",
    "    point_p = vertices[-1]\n",
    "    for point in vertices:\n",
    "        A += (point[1]*point_p[0] - point[0]*point_p[1])\n",
    "        point_p = point\n",
    "    return abs(A)/2\n"
   ]
  },
  {
   "cell_type": "code",
   "execution_count": 25,
   "id": "787503ba",
   "metadata": {},
   "outputs": [],
   "source": [
    "def cal_centroid(points):\n",
    "    A = cal_area(points)\n",
    "    c_x, c_y = 0.0, 0.0\n",
    "    point_p = points[-1] # point_p 表示前一节点\n",
    "    for point in points:\n",
    "        c_x +=((point[0] + point_p[0]) * (point[1]*point_p[0] - point_p[1]*point[0]))\n",
    "        c_y +=((point[1] + point_p[1]) * (point[1]*point_p[0] - point_p[1]*point[0]))\n",
    "        point_p = point\n",
    "\n",
    "    return c_x / (6*A), c_y / (6*A)\n"
   ]
  },
  {
   "cell_type": "code",
   "execution_count": 33,
   "id": "f875efc2",
   "metadata": {
    "scrolled": true
   },
   "outputs": [
    {
     "name": "stdout",
     "output_type": "stream",
     "text": [
      "600DP-10_0has been done.\n",
      "600DP-10_1has been done.\n",
      "600DP-10_2has been done.\n",
      "600DP-1_0has been done.\n",
      "600DP-1_1has been done.\n",
      "600DP-1_2has been done.\n",
      "600DP-1_3has been done.\n",
      "600DP-2_0has been done.\n",
      "600DP-2_1has been done.\n",
      "600DP-2_2has been done.\n",
      "600DP-2_3has been done.\n",
      "600DP-3_0has been done.\n",
      "600DP-3_1has been done.\n",
      "600DP-3_2has been done.\n",
      "600DP-3_3has been done.\n",
      "600DP-4_0has been done.\n",
      "600DP-4_1has been done.\n",
      "600DP-4_2has been done.\n",
      "600DP-4_3has been done.\n",
      "600DP-5_0has been done.\n",
      "600DP-5_1has been done.\n",
      "600DP-5_2has been done.\n",
      "600DP-5_3has been done.\n",
      "600DP-6_0has been done.\n",
      "600DP-6_1has been done.\n",
      "600DP-6_2has been done.\n",
      "600DP-6_3has been done.\n",
      "600DP-7_0has been done.\n",
      "600DP-7_1has been done.\n",
      "600DP-7_2has been done.\n",
      "600DP-7_3has been done.\n",
      "600DP-8_0has been done.\n",
      "600DP-8_1has been done.\n",
      "600DP-8_2has been done.\n",
      "600DP-8_3has been done.\n",
      "600DP-9_0has been done.\n",
      "600DP-9_1has been done.\n",
      "600DP-9_2has been done.\n",
      "600DP-9_3has been done.\n"
     ]
    }
   ],
   "source": [
    "import glob\n",
    "import os\n",
    "import json\n",
    "from math import radians,cos,sin,degrees,atan2,sqrt\n",
    "\n",
    "file_folder = \"./\"\n",
    "\n",
    "file_list = glob.glob(file_folder + '//' + '*.json')\n",
    "for file in file_list:\n",
    "    _, filename = os.path.split(file)\n",
    "    filename = filename[:-5]\n",
    "    with open(file, 'r') as f:\n",
    "        data = json.load(f)\n",
    "        shapes = data['shapes']\n",
    "        for shape in shapes:\n",
    "            polygon = shape['points']\n",
    "#             print(polygon)\n",
    "            center = cal_centroid(polygon) # 得到中心点\n",
    "            center = list(map(abs,center))\n",
    "#             center=center_geolocation(polygon) # 得到中心点\n",
    "            with open(filename+\".txt\",mode='a') as f:\n",
    "                f.write(str(center[0])+\" \"+str(center[1])+'\\n')\n",
    "    print(filename+\" has been done.\")\n",
    "#             print(center)\n",
    "#     with open(file, 'w') as f:\n",
    "#         json.dump(data, f, indent=2)"
   ]
  },
  {
   "cell_type": "code",
   "execution_count": null,
   "id": "d88da8b2",
   "metadata": {},
   "outputs": [],
   "source": []
  },
  {
   "cell_type": "code",
   "execution_count": null,
   "id": "e71646b7",
   "metadata": {},
   "outputs": [],
   "source": []
  },
  {
   "cell_type": "code",
   "execution_count": null,
   "id": "46654be0",
   "metadata": {},
   "outputs": [],
   "source": []
  }
 ],
 "metadata": {
  "kernelspec": {
   "display_name": "Python 3 (ipykernel)",
   "language": "python",
   "name": "python3"
  },
  "language_info": {
   "codemirror_mode": {
    "name": "ipython",
    "version": 3
   },
   "file_extension": ".py",
   "mimetype": "text/x-python",
   "name": "python",
   "nbconvert_exporter": "python",
   "pygments_lexer": "ipython3",
   "version": "3.9.7"
  }
 },
 "nbformat": 4,
 "nbformat_minor": 5
}

{
 "cells": [
  {
   "cell_type": "code",
   "execution_count": 1,
   "id": "00b045d6",
   "metadata": {},
   "outputs": [],
   "source": [
    "def cal_area(vertices): #Gauss's area formula 高斯面积计算\n",
    "    A = 0.0\n",
    "    point_p = vertices[-1]\n",
    "    for point in vertices:\n",
    "        A += (point[1]*point_p[0] - point[0]*point_p[1])\n",
    "        point_p = point\n",
    "    return abs(A)/2\n"
   ]
  },
  {
   "cell_type": "code",
   "execution_count": 2,
   "id": "787503ba",
   "metadata": {},
   "outputs": [],
   "source": [
    "def cal_centroid(points):\n",
    "    A = cal_area(points)\n",
    "    c_x, c_y = 0.0, 0.0\n",
    "    point_p = points[-1] # point_p 表示前一节点\n",
    "    for point in points:\n",
    "        c_x +=((point[0] + point_p[0]) * (point[1]*point_p[0] - point_p[1]*point[0]))\n",
    "        c_y +=((point[1] + point_p[1]) * (point[1]*point_p[0] - point_p[1]*point[0]))\n",
    "        point_p = point\n",
    "\n",
    "    return c_x / (6*A), c_y / (6*A)\n"
   ]
  },
  {
   "cell_type": "markdown",
   "id": "62441e71",
   "metadata": {},
   "source": [
    "### 获取特征点并写入对应txt"
   ]
  },
  {
   "cell_type": "code",
   "execution_count": 6,
   "id": "f875efc2",
   "metadata": {
    "scrolled": true
   },
   "outputs": [],
   "source": [
    "import glob\n",
    "import os\n",
    "import json\n",
    "from math import radians,cos,sin,degrees,atan2,sqrt\n",
    "import cv2\n",
    "\n",
    "file_folder = \"./\"\n",
    "file_list = glob.glob(file_folder + '//' + '*.json')\n",
    "\n",
    "for file in file_list:\n",
    "    _, filename = os.path.split(file)\n",
    "    filename = filename[:-5]\n",
    "    with open(file, 'r') as f:\n",
    "        data = json.load(f)\n",
    "        shapes = data['shapes']\n",
    "        for shape in shapes:\n",
    "            polygon = shape['points']\n",
    "#             print(polygon)\n",
    "            center = cal_centroid(polygon) # 得到中心点\n",
    "            center = list(map(abs,center))\n",
    "#             print(center)\n",
    "            with open(filename+\".txt\",mode='a') as f:\n",
    "                f.write(str(center[0])+\" \"+str(center[1])+'\\n')\n",
    "    print(filename+\" has been done.\")\n",
    "            print(center)\n",
    "    with open(file, 'w') as f:\n",
    "        json.dump(data, f, indent=2)"
   ]
  },
  {
   "cell_type": "markdown",
   "id": "85d9ce1f",
   "metadata": {},
   "source": [
    "### 可视化特征点"
   ]
  },
  {
   "cell_type": "code",
   "execution_count": 3,
   "id": "466aded6",
   "metadata": {},
   "outputs": [],
   "source": [
    "def cv_show(img):\n",
    "    cv2.imshow('img',img)\n",
    "    cv2.waitKey(0)\n",
    "    cv2.destroyAllWindows()"
   ]
  },
  {
   "cell_type": "code",
   "execution_count": null,
   "id": "11d7c0af",
   "metadata": {},
   "outputs": [],
   "source": [
    "# 使用labelme的脚本生成label_viz.png\n",
    "import os\n",
    "import glob\n",
    "\n",
    "folder_name = \"./\"\n",
    "path = os.getcwd()+'\\\\'+folder_name  # path to json_file\n",
    "json_file = glob.glob(os.path.join(path, \"*.json\"))\n",
    "for file in json_file:\n",
    "    os.system(\"D:\\Anaconda3\\Scripts\\labelme_json_to_dataset.exe \" + file)"
   ]
  },
  {
   "cell_type": "code",
   "execution_count": 6,
   "id": "d88da8b2",
   "metadata": {},
   "outputs": [
    {
     "data": {
      "text/plain": [
       "True"
      ]
     },
     "execution_count": 6,
     "metadata": {},
     "output_type": "execute_result"
    }
   ],
   "source": [
    "import glob\n",
    "import os\n",
    "import json\n",
    "from math import radians,cos,sin,degrees,atan2,sqrt\n",
    "import cv2\n",
    "\n",
    "img = cv2.imread(\"label_viz.png\") # 读取图片\n",
    "'''\n",
    "label_viz.png由labelme导出\n",
    "'''\n",
    "file_folder = \"./\"\n",
    "\n",
    "file_list = glob.glob(file_folder + '//' + '*.json')\n",
    "for file in file_list:\n",
    "    _, filename = os.path.split(file)\n",
    "    filename = filename[:-5]\n",
    "    with open(file, 'r') as f:\n",
    "        data = json.load(f)\n",
    "        shapes = data['shapes']\n",
    "        for shape in shapes:\n",
    "            polygon = shape['points']\n",
    "#             print(polygon)\n",
    "            center = cal_centroid(polygon) # 得到中心点\n",
    "            center = list(map(abs,center))\n",
    "            x, y = int(center[0]),int(center[1])\n",
    "            \n",
    "            cv2.circle(img,(x, y),3,(0,255,0),-1)\n",
    "#             print(center)\n",
    "cv_show(img)\n",
    "cv2.imwrite(filename+\"_viz.png\", img)\n",
    "\n",
    "#             center=center_geolocation(polygon) # 得到中心点\n",
    "#             with open(filename+\".txt\",mode='a') as f:\n",
    "#                 f.write(str(center[0])+\" \"+str(center[1])+'\\n')\n",
    "#     print(filename+\" has been done.\")\n",
    "#             print(center)\n",
    "#     with open(file, 'w') as f:\n",
    "#         json.dump(data, f, indent=2)"
   ]
  },
  {
   "cell_type": "code",
   "execution_count": null,
   "id": "e71646b7",
   "metadata": {},
   "outputs": [],
   "source": []
  },
  {
   "cell_type": "code",
   "execution_count": null,
   "id": "46654be0",
   "metadata": {},
   "outputs": [],
   "source": []
  }
 ],
 "metadata": {
  "kernelspec": {
   "display_name": "Python 3 (ipykernel)",
   "language": "python",
   "name": "python3"
  },
  "language_info": {
   "codemirror_mode": {
    "name": "ipython",
    "version": 3
   },
   "file_extension": ".py",
   "mimetype": "text/x-python",
   "name": "python",
   "nbconvert_exporter": "python",
   "pygments_lexer": "ipython3",
   "version": "3.9.7"
  }
 },
 "nbformat": 4,
 "nbformat_minor": 5
}

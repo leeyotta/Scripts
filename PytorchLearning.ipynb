{
 "cells": [
  {
   "cell_type": "markdown",
   "id": "afbeac15",
   "metadata": {},
   "source": [
    "## torch"
   ]
  },
  {
   "cell_type": "code",
   "execution_count": 1,
   "id": "3a9f581d",
   "metadata": {},
   "outputs": [],
   "source": [
    "import torch"
   ]
  },
  {
   "cell_type": "markdown",
   "id": "2e7a4f59",
   "metadata": {},
   "source": [
    "### torch.is_tensor(obj)\n",
    "    Returns True if obj is a PyTorch tensor.\n",
    "    \n",
    "    p.s. return isinstance(obj, torch.Tensor)\n"
   ]
  },
  {
   "cell_type": "code",
   "execution_count": 2,
   "id": "1a7ad9be",
   "metadata": {},
   "outputs": [
    {
     "data": {
      "text/plain": [
       "True"
      ]
     },
     "execution_count": 2,
     "metadata": {},
     "output_type": "execute_result"
    }
   ],
   "source": [
    "x=torch.tensor([1,2,3])\n",
    "torch.is_tensor(x)"
   ]
  },
  {
   "cell_type": "markdown",
   "id": "ea2b8508",
   "metadata": {},
   "source": [
    "### torch.is_storage(obj)\n",
    "    Returns True if obj is a PyTorch storage object.\n",
    "\n",
    "    p.s. return type(obj) in _storage_classes"
   ]
  },
  {
   "cell_type": "code",
   "execution_count": 4,
   "id": "fb727850",
   "metadata": {},
   "outputs": [
    {
     "data": {
      "text/plain": [
       "True"
      ]
     },
     "execution_count": 4,
     "metadata": {},
     "output_type": "execute_result"
    }
   ],
   "source": [
    "x=torch.tensor([1,2,3]).storage()\n",
    "torch.is_storage(x)"
   ]
  },
  {
   "cell_type": "markdown",
   "id": "b9bb721b",
   "metadata": {},
   "source": [
    "### torch.is_complex(input)\n",
    "    Returns True if the data type of input is a complex data type i.e., one of torch.complex64, and torch.complex128."
   ]
  },
  {
   "cell_type": "code",
   "execution_count": 5,
   "id": "0676b0f9",
   "metadata": {},
   "outputs": [
    {
     "data": {
      "text/plain": [
       "True"
      ]
     },
     "execution_count": 5,
     "metadata": {},
     "output_type": "execute_result"
    }
   ],
   "source": [
    "a = torch.tensor([1, 2], dtype=torch.float32)\n",
    "b = torch.tensor([3, 4], dtype=torch.float32)\n",
    "z = torch.complex(a, b)\n",
    "torch.is_complex(z)"
   ]
  },
  {
   "cell_type": "code",
   "execution_count": null,
   "id": "6284a7eb",
   "metadata": {},
   "outputs": [],
   "source": []
  }
 ],
 "metadata": {
  "kernelspec": {
   "display_name": "Python 3",
   "language": "python",
   "name": "python3"
  },
  "language_info": {
   "codemirror_mode": {
    "name": "ipython",
    "version": 3
   },
   "file_extension": ".py",
   "mimetype": "text/x-python",
   "name": "python",
   "nbconvert_exporter": "python",
   "pygments_lexer": "ipython3",
   "version": "3.6.5"
  }
 },
 "nbformat": 4,
 "nbformat_minor": 5
}

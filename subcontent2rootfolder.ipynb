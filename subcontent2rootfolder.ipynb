{
 "cells": [
  {
   "cell_type": "markdown",
   "metadata": {},
   "source": [
    "# 将子目录内容移动到根目录下并删除子目录"
   ]
  },
  {
   "cell_type": "code",
   "execution_count": null,
   "metadata": {},
   "outputs": [],
   "source": [
    "import os\n",
    "\n",
    "path=input(\"input the root folder ended with /\")    #'./铁素体/'\n",
    "for parent,dirnames,filenames in os.walk(path):\n",
    "    for filename in filenames:\n",
    "        if os.path.exists(path+filename):\n",
    "            continue;\n",
    "        os.rename(os.path.join(parent, filename),path+filename);\n",
    "    for dir in dirnames:\n",
    "        os.rmdir(path+dir) "
   ]
  }
 ],
 "metadata": {
  "kernelspec": {
   "display_name": "Python 3",
   "language": "python",
   "name": "python3"
  },
  "language_info": {
   "codemirror_mode": {
    "name": "ipython",
    "version": 3
   },
   "file_extension": ".py",
   "mimetype": "text/x-python",
   "name": "python",
   "nbconvert_exporter": "python",
   "pygments_lexer": "ipython3",
   "version": "3.6.5"
  }
 },
 "nbformat": 4,
 "nbformat_minor": 2
}

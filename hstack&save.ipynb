{
 "cells": [
  {
   "cell_type": "markdown",
   "metadata": {},
   "source": [
    "# 拼接图像并保存"
   ]
  },
  {
   "cell_type": "code",
   "execution_count": 5,
   "metadata": {
    "scrolled": true
   },
   "outputs": [
    {
     "data": {
      "text/plain": [
       "True"
      ]
     },
     "execution_count": 5,
     "metadata": {},
     "output_type": "execute_result"
    }
   ],
   "source": [
    "import cv2\n",
    "import numpy as np\n",
    "imgA = cv2.imread('600DP-10_0.png')\n",
    "imgB = cv2.imread('600DP-10_0_label.png')\n",
    "#在进行拼接之前，必须将两个img resize成同一个size,\n",
    "#因为np.hstack和np.vstack实际上是堆叠数组，不过按照列和行进行堆叠数组\n",
    "# size = (300, 300)\n",
    "# imgA = cv2.resize(imgA, size)\n",
    "# imgB = cv2.resize(imgB, size)\n",
    "#水平拼接\n",
    "splice = np.hstack((imgA, imgB))\n",
    "\n",
    "saveFile = \"./result.png\"  # 保存文件的路径\n",
    "\n",
    "cv2.imwrite(saveFile, splice)  # 保存图像文件\n"
   ]
  },
  {
   "cell_type": "code",
   "execution_count": null,
   "metadata": {},
   "outputs": [],
   "source": []
  }
 ],
 "metadata": {
  "kernelspec": {
   "display_name": "Python 3 (ipykernel)",
   "language": "python",
   "name": "python3"
  },
  "language_info": {
   "codemirror_mode": {
    "name": "ipython",
    "version": 3
   },
   "file_extension": ".py",
   "mimetype": "text/x-python",
   "name": "python",
   "nbconvert_exporter": "python",
   "pygments_lexer": "ipython3",
   "version": "3.9.7"
  }
 },
 "nbformat": 4,
 "nbformat_minor": 2
}
